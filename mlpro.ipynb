{
 "cells": [
  {
   "cell_type": "markdown",
   "metadata": {},
   "source": [
    "# Placement Prediction #"
   ]
  },
  {
   "cell_type": "code",
   "execution_count": 58,
   "metadata": {},
   "outputs": [
    {
     "data": {
      "text/html": [
       "<div>\n",
       "<style scoped>\n",
       "    .dataframe tbody tr th:only-of-type {\n",
       "        vertical-align: middle;\n",
       "    }\n",
       "\n",
       "    .dataframe tbody tr th {\n",
       "        vertical-align: top;\n",
       "    }\n",
       "\n",
       "    .dataframe thead th {\n",
       "        text-align: right;\n",
       "    }\n",
       "</style>\n",
       "<table border=\"1\" class=\"dataframe\">\n",
       "  <thead>\n",
       "    <tr style=\"text-align: right;\">\n",
       "      <th></th>\n",
       "      <th>Roll.no</th>\n",
       "      <th>CGPA</th>\n",
       "      <th>tot_arriers</th>\n",
       "      <th>clrd_arriers</th>\n",
       "      <th>Interns</th>\n",
       "      <th>Paid_intrn</th>\n",
       "      <th>Projects</th>\n",
       "      <th>Articels</th>\n",
       "      <th>Placement</th>\n",
       "      <th>Sex</th>\n",
       "      <th>mass_recruiter</th>\n",
       "    </tr>\n",
       "  </thead>\n",
       "  <tbody>\n",
       "    <tr>\n",
       "      <th>0</th>\n",
       "      <td>cseXXXX</td>\n",
       "      <td>8.2</td>\n",
       "      <td>0</td>\n",
       "      <td>0</td>\n",
       "      <td>3</td>\n",
       "      <td>1</td>\n",
       "      <td>5</td>\n",
       "      <td>2</td>\n",
       "      <td>1100000</td>\n",
       "      <td>male</td>\n",
       "      <td>yes</td>\n",
       "    </tr>\n",
       "    <tr>\n",
       "      <th>1</th>\n",
       "      <td>cseXXXX</td>\n",
       "      <td>7.2</td>\n",
       "      <td>3</td>\n",
       "      <td>3</td>\n",
       "      <td>1</td>\n",
       "      <td>1</td>\n",
       "      <td>1</td>\n",
       "      <td>0</td>\n",
       "      <td>450000</td>\n",
       "      <td>male</td>\n",
       "      <td>no</td>\n",
       "    </tr>\n",
       "    <tr>\n",
       "      <th>2</th>\n",
       "      <td>cseXXXX</td>\n",
       "      <td>2.3</td>\n",
       "      <td>14</td>\n",
       "      <td>2</td>\n",
       "      <td>0</td>\n",
       "      <td>0</td>\n",
       "      <td>0</td>\n",
       "      <td>0</td>\n",
       "      <td>0</td>\n",
       "      <td>male</td>\n",
       "      <td>no</td>\n",
       "    </tr>\n",
       "    <tr>\n",
       "      <th>3</th>\n",
       "      <td>cseXXXX</td>\n",
       "      <td>6.5</td>\n",
       "      <td>0</td>\n",
       "      <td>0</td>\n",
       "      <td>1</td>\n",
       "      <td>2</td>\n",
       "      <td>3</td>\n",
       "      <td>1</td>\n",
       "      <td>350000</td>\n",
       "      <td>male</td>\n",
       "      <td>yes</td>\n",
       "    </tr>\n",
       "    <tr>\n",
       "      <th>4</th>\n",
       "      <td>cseXXXX</td>\n",
       "      <td>9.5</td>\n",
       "      <td>0</td>\n",
       "      <td>0</td>\n",
       "      <td>1</td>\n",
       "      <td>1</td>\n",
       "      <td>1</td>\n",
       "      <td>1</td>\n",
       "      <td>1050000</td>\n",
       "      <td>female</td>\n",
       "      <td>yes</td>\n",
       "    </tr>\n",
       "  </tbody>\n",
       "</table>\n",
       "</div>"
      ],
      "text/plain": [
       "   Roll.no  CGPA  tot_arriers  clrd_arriers  Interns  Paid_intrn  Projects  \\\n",
       "0  cseXXXX   8.2            0             0        3           1         5   \n",
       "1  cseXXXX   7.2            3             3        1           1         1   \n",
       "2  cseXXXX   2.3           14             2        0           0         0   \n",
       "3  cseXXXX   6.5            0             0        1           2         3   \n",
       "4  cseXXXX   9.5            0             0        1           1         1   \n",
       "\n",
       "   Articels  Placement     Sex mass_recruiter  \n",
       "0         2    1100000    male            yes  \n",
       "1         0     450000    male             no  \n",
       "2         0          0    male             no  \n",
       "3         1     350000    male            yes  \n",
       "4         1    1050000  female            yes  "
      ]
     },
     "execution_count": 58,
     "metadata": {},
     "output_type": "execute_result"
    }
   ],
   "source": [
    "import pandas as pd\n",
    "import numpy as np\n",
    "import matplotlib.pyplot as plt\n",
    "import seaborn as sns\n",
    "%matplotlib inline\n",
    "\n",
    "dat=pd.read_csv(\"AmritaStudentsPlacemnt00.csv\")\n",
    "dat.head()"
   ]
  },
  {
   "cell_type": "code",
   "execution_count": 59,
   "metadata": {},
   "outputs": [
    {
     "data": {
      "text/plain": [
       "Roll.no            object\n",
       "CGPA              float64\n",
       "tot_arriers         int64\n",
       "clrd_arriers        int64\n",
       "Interns             int64\n",
       "Paid_intrn          int64\n",
       "Projects            int64\n",
       "Articels            int64\n",
       "Placement           int64\n",
       "Sex                object\n",
       "mass_recruiter     object\n",
       "dtype: object"
      ]
     },
     "execution_count": 59,
     "metadata": {},
     "output_type": "execute_result"
    }
   ],
   "source": [
    "iin=dat.iloc[ : , : ]\n",
    "\n",
    "iin.head()\n",
    "iin.dtypes"
   ]
  },
  {
   "cell_type": "code",
   "execution_count": 60,
   "metadata": {},
   "outputs": [
    {
     "data": {
      "text/html": [
       "<div>\n",
       "<style scoped>\n",
       "    .dataframe tbody tr th:only-of-type {\n",
       "        vertical-align: middle;\n",
       "    }\n",
       "\n",
       "    .dataframe tbody tr th {\n",
       "        vertical-align: top;\n",
       "    }\n",
       "\n",
       "    .dataframe thead th {\n",
       "        text-align: right;\n",
       "    }\n",
       "</style>\n",
       "<table border=\"1\" class=\"dataframe\">\n",
       "  <thead>\n",
       "    <tr style=\"text-align: right;\">\n",
       "      <th></th>\n",
       "      <th>Roll.no</th>\n",
       "      <th>CGPA</th>\n",
       "      <th>tot_arriers</th>\n",
       "      <th>clrd_arriers</th>\n",
       "      <th>Interns</th>\n",
       "      <th>Paid_intrn</th>\n",
       "      <th>Projects</th>\n",
       "      <th>Articels</th>\n",
       "      <th>Placement</th>\n",
       "      <th>Sex</th>\n",
       "      <th>mass_recruiter</th>\n",
       "    </tr>\n",
       "  </thead>\n",
       "  <tbody>\n",
       "    <tr>\n",
       "      <th>0</th>\n",
       "      <td>cseXXXX</td>\n",
       "      <td>8.2</td>\n",
       "      <td>0</td>\n",
       "      <td>0</td>\n",
       "      <td>3</td>\n",
       "      <td>1</td>\n",
       "      <td>5</td>\n",
       "      <td>2</td>\n",
       "      <td>1100000</td>\n",
       "      <td>male</td>\n",
       "      <td>yes</td>\n",
       "    </tr>\n",
       "    <tr>\n",
       "      <th>1</th>\n",
       "      <td>cseXXXX</td>\n",
       "      <td>7.2</td>\n",
       "      <td>3</td>\n",
       "      <td>3</td>\n",
       "      <td>1</td>\n",
       "      <td>1</td>\n",
       "      <td>1</td>\n",
       "      <td>0</td>\n",
       "      <td>450000</td>\n",
       "      <td>male</td>\n",
       "      <td>no</td>\n",
       "    </tr>\n",
       "    <tr>\n",
       "      <th>2</th>\n",
       "      <td>cseXXXX</td>\n",
       "      <td>2.3</td>\n",
       "      <td>14</td>\n",
       "      <td>2</td>\n",
       "      <td>0</td>\n",
       "      <td>0</td>\n",
       "      <td>0</td>\n",
       "      <td>0</td>\n",
       "      <td>0</td>\n",
       "      <td>male</td>\n",
       "      <td>no</td>\n",
       "    </tr>\n",
       "    <tr>\n",
       "      <th>3</th>\n",
       "      <td>cseXXXX</td>\n",
       "      <td>6.5</td>\n",
       "      <td>0</td>\n",
       "      <td>0</td>\n",
       "      <td>1</td>\n",
       "      <td>2</td>\n",
       "      <td>3</td>\n",
       "      <td>1</td>\n",
       "      <td>350000</td>\n",
       "      <td>male</td>\n",
       "      <td>yes</td>\n",
       "    </tr>\n",
       "    <tr>\n",
       "      <th>4</th>\n",
       "      <td>cseXXXX</td>\n",
       "      <td>9.5</td>\n",
       "      <td>0</td>\n",
       "      <td>0</td>\n",
       "      <td>1</td>\n",
       "      <td>1</td>\n",
       "      <td>1</td>\n",
       "      <td>1</td>\n",
       "      <td>1050000</td>\n",
       "      <td>female</td>\n",
       "      <td>yes</td>\n",
       "    </tr>\n",
       "  </tbody>\n",
       "</table>\n",
       "</div>"
      ],
      "text/plain": [
       "   Roll.no  CGPA  tot_arriers  clrd_arriers  Interns  Paid_intrn  Projects  \\\n",
       "0  cseXXXX   8.2            0             0        3           1         5   \n",
       "1  cseXXXX   7.2            3             3        1           1         1   \n",
       "2  cseXXXX   2.3           14             2        0           0         0   \n",
       "3  cseXXXX   6.5            0             0        1           2         3   \n",
       "4  cseXXXX   9.5            0             0        1           1         1   \n",
       "\n",
       "   Articels  Placement     Sex mass_recruiter  \n",
       "0         2    1100000    male            yes  \n",
       "1         0     450000    male             no  \n",
       "2         0          0    male             no  \n",
       "3         1     350000    male            yes  \n",
       "4         1    1050000  female            yes  "
      ]
     },
     "execution_count": 60,
     "metadata": {},
     "output_type": "execute_result"
    }
   ],
   "source": [
    "dat.drop(columns=['Roll.no'])\n",
    "dat.head()"
   ]
  },
  {
   "cell_type": "code",
   "execution_count": 61,
   "metadata": {},
   "outputs": [
    {
     "data": {
      "text/plain": [
       "CGPA            float64\n",
       "tot_arriers       int64\n",
       "clrd_arriers      int64\n",
       "Interns           int64\n",
       "Paid_intrn        int64\n",
       "Projects          int64\n",
       "Articels          int64\n",
       "dtype: object"
      ]
     },
     "execution_count": 61,
     "metadata": {},
     "output_type": "execute_result"
    }
   ],
   "source": [
    "x=dat.iloc[ : ,1:8]\n",
    "df = pd.DataFrame(data=x)\n",
    "df.astype('float64').dtypes\n",
    "df.head()\n",
    "df.dtypes"
   ]
  },
  {
   "cell_type": "code",
   "execution_count": 62,
   "metadata": {},
   "outputs": [
    {
     "data": {
      "text/html": [
       "<div>\n",
       "<style scoped>\n",
       "    .dataframe tbody tr th:only-of-type {\n",
       "        vertical-align: middle;\n",
       "    }\n",
       "\n",
       "    .dataframe tbody tr th {\n",
       "        vertical-align: top;\n",
       "    }\n",
       "\n",
       "    .dataframe thead th {\n",
       "        text-align: right;\n",
       "    }\n",
       "</style>\n",
       "<table border=\"1\" class=\"dataframe\">\n",
       "  <thead>\n",
       "    <tr style=\"text-align: right;\">\n",
       "      <th></th>\n",
       "      <th>Placement</th>\n",
       "    </tr>\n",
       "  </thead>\n",
       "  <tbody>\n",
       "    <tr>\n",
       "      <th>0</th>\n",
       "      <td>1100000</td>\n",
       "    </tr>\n",
       "    <tr>\n",
       "      <th>1</th>\n",
       "      <td>450000</td>\n",
       "    </tr>\n",
       "    <tr>\n",
       "      <th>2</th>\n",
       "      <td>0</td>\n",
       "    </tr>\n",
       "    <tr>\n",
       "      <th>3</th>\n",
       "      <td>350000</td>\n",
       "    </tr>\n",
       "    <tr>\n",
       "      <th>4</th>\n",
       "      <td>1050000</td>\n",
       "    </tr>\n",
       "  </tbody>\n",
       "</table>\n",
       "</div>"
      ],
      "text/plain": [
       "   Placement\n",
       "0    1100000\n",
       "1     450000\n",
       "2          0\n",
       "3     350000\n",
       "4    1050000"
      ]
     },
     "execution_count": 62,
     "metadata": {},
     "output_type": "execute_result"
    }
   ],
   "source": [
    "y=dat.iloc[ : ,8:9]\n",
    "y.head()\n"
   ]
  },
  {
   "cell_type": "code",
   "execution_count": 63,
   "metadata": {
    "scrolled": true
   },
   "outputs": [
    {
     "data": {
      "text/html": [
       "<div>\n",
       "<style scoped>\n",
       "    .dataframe tbody tr th:only-of-type {\n",
       "        vertical-align: middle;\n",
       "    }\n",
       "\n",
       "    .dataframe tbody tr th {\n",
       "        vertical-align: top;\n",
       "    }\n",
       "\n",
       "    .dataframe thead th {\n",
       "        text-align: right;\n",
       "    }\n",
       "</style>\n",
       "<table border=\"1\" class=\"dataframe\">\n",
       "  <thead>\n",
       "    <tr style=\"text-align: right;\">\n",
       "      <th></th>\n",
       "      <th>CGPA</th>\n",
       "      <th>tot_arriers</th>\n",
       "      <th>clrd_arriers</th>\n",
       "      <th>Interns</th>\n",
       "      <th>Paid_intrn</th>\n",
       "      <th>Projects</th>\n",
       "      <th>Articels</th>\n",
       "      <th>Placement</th>\n",
       "    </tr>\n",
       "  </thead>\n",
       "  <tbody>\n",
       "    <tr>\n",
       "      <th>count</th>\n",
       "      <td>99.000000</td>\n",
       "      <td>99.000000</td>\n",
       "      <td>99.000000</td>\n",
       "      <td>99.000000</td>\n",
       "      <td>99.000000</td>\n",
       "      <td>99.000000</td>\n",
       "      <td>99.000000</td>\n",
       "      <td>9.900000e+01</td>\n",
       "    </tr>\n",
       "    <tr>\n",
       "      <th>mean</th>\n",
       "      <td>6.593636</td>\n",
       "      <td>2.474747</td>\n",
       "      <td>0.878788</td>\n",
       "      <td>1.050505</td>\n",
       "      <td>0.808081</td>\n",
       "      <td>1.676768</td>\n",
       "      <td>0.757576</td>\n",
       "      <td>4.110000e+05</td>\n",
       "    </tr>\n",
       "    <tr>\n",
       "      <th>std</th>\n",
       "      <td>1.996298</td>\n",
       "      <td>3.737137</td>\n",
       "      <td>1.239427</td>\n",
       "      <td>1.172593</td>\n",
       "      <td>0.695125</td>\n",
       "      <td>1.640236</td>\n",
       "      <td>1.040907</td>\n",
       "      <td>3.662950e+05</td>\n",
       "    </tr>\n",
       "    <tr>\n",
       "      <th>min</th>\n",
       "      <td>1.100000</td>\n",
       "      <td>0.000000</td>\n",
       "      <td>0.000000</td>\n",
       "      <td>0.000000</td>\n",
       "      <td>0.000000</td>\n",
       "      <td>0.000000</td>\n",
       "      <td>0.000000</td>\n",
       "      <td>0.000000e+00</td>\n",
       "    </tr>\n",
       "    <tr>\n",
       "      <th>25%</th>\n",
       "      <td>5.150000</td>\n",
       "      <td>0.000000</td>\n",
       "      <td>0.000000</td>\n",
       "      <td>0.000000</td>\n",
       "      <td>0.000000</td>\n",
       "      <td>1.000000</td>\n",
       "      <td>0.000000</td>\n",
       "      <td>1.400000e+05</td>\n",
       "    </tr>\n",
       "    <tr>\n",
       "      <th>50%</th>\n",
       "      <td>6.800000</td>\n",
       "      <td>1.000000</td>\n",
       "      <td>0.000000</td>\n",
       "      <td>1.000000</td>\n",
       "      <td>1.000000</td>\n",
       "      <td>1.000000</td>\n",
       "      <td>0.000000</td>\n",
       "      <td>3.400000e+05</td>\n",
       "    </tr>\n",
       "    <tr>\n",
       "      <th>75%</th>\n",
       "      <td>8.200000</td>\n",
       "      <td>3.000000</td>\n",
       "      <td>1.000000</td>\n",
       "      <td>2.000000</td>\n",
       "      <td>1.000000</td>\n",
       "      <td>2.000000</td>\n",
       "      <td>1.000000</td>\n",
       "      <td>5.650000e+05</td>\n",
       "    </tr>\n",
       "    <tr>\n",
       "      <th>max</th>\n",
       "      <td>9.800000</td>\n",
       "      <td>17.000000</td>\n",
       "      <td>5.000000</td>\n",
       "      <td>5.000000</td>\n",
       "      <td>2.000000</td>\n",
       "      <td>8.000000</td>\n",
       "      <td>4.000000</td>\n",
       "      <td>1.450000e+06</td>\n",
       "    </tr>\n",
       "  </tbody>\n",
       "</table>\n",
       "</div>"
      ],
      "text/plain": [
       "            CGPA  tot_arriers  clrd_arriers    Interns  Paid_intrn   Projects  \\\n",
       "count  99.000000    99.000000     99.000000  99.000000   99.000000  99.000000   \n",
       "mean    6.593636     2.474747      0.878788   1.050505    0.808081   1.676768   \n",
       "std     1.996298     3.737137      1.239427   1.172593    0.695125   1.640236   \n",
       "min     1.100000     0.000000      0.000000   0.000000    0.000000   0.000000   \n",
       "25%     5.150000     0.000000      0.000000   0.000000    0.000000   1.000000   \n",
       "50%     6.800000     1.000000      0.000000   1.000000    1.000000   1.000000   \n",
       "75%     8.200000     3.000000      1.000000   2.000000    1.000000   2.000000   \n",
       "max     9.800000    17.000000      5.000000   5.000000    2.000000   8.000000   \n",
       "\n",
       "        Articels     Placement  \n",
       "count  99.000000  9.900000e+01  \n",
       "mean    0.757576  4.110000e+05  \n",
       "std     1.040907  3.662950e+05  \n",
       "min     0.000000  0.000000e+00  \n",
       "25%     0.000000  1.400000e+05  \n",
       "50%     0.000000  3.400000e+05  \n",
       "75%     1.000000  5.650000e+05  \n",
       "max     4.000000  1.450000e+06  "
      ]
     },
     "execution_count": 63,
     "metadata": {},
     "output_type": "execute_result"
    }
   ],
   "source": [
    "dat.describe()"
   ]
  },
  {
   "cell_type": "markdown",
   "metadata": {},
   "source": [
    "# Data visualization"
   ]
  },
  {
   "cell_type": "code",
   "execution_count": 64,
   "metadata": {},
   "outputs": [
    {
     "data": {
      "image/png": "[encoded data removed]",
      "text/plain": [
       "<Figure size 1080x1080 with 9 Axes>"
      ]
     },
     "metadata": {
      "needs_background": "light"
     },
     "output_type": "display_data"
    }
   ],
   "source": [
    "dv= dat.columns[dat.dtypes !='object']\n",
    "dat[dv].hist(figsize=(15,15))\n",
    "plt.show()"
   ]
  },
  {
   "cell_type": "markdown",
   "metadata": {},
   "source": [
    "# Data preprocessing"
   ]
  },
  {
   "cell_type": "code",
   "execution_count": 65,
   "metadata": {},
   "outputs": [
    {
     "data": {
      "text/plain": [
       "Roll.no           0\n",
       "CGPA              0\n",
       "tot_arriers       0\n",
       "clrd_arriers      0\n",
       "Interns           0\n",
       "Paid_intrn        0\n",
       "Projects          0\n",
       "Articels          0\n",
       "Placement         0\n",
       "Sex               0\n",
       "mass_recruiter    0\n",
       "dtype: int64"
      ]
     },
     "execution_count": 65,
     "metadata": {},
     "output_type": "execute_result"
    }
   ],
   "source": [
    "#Checking for missing values\n",
    "dat.isnull().sum()"
   ]
  },
  {
   "cell_type": "code",
   "execution_count": 66,
   "metadata": {},
   "outputs": [],
   "source": [
    "#Drop the missing values\n",
    "dat.dropna(axis=0,inplace=True)"
   ]
  },
  {
   "cell_type": "code",
   "execution_count": null,
   "metadata": {},
   "outputs": [],
   "source": []
  },
  {
   "cell_type": "code",
   "execution_count": 67,
   "metadata": {},
   "outputs": [],
   "source": [
    "#Splitting the data\n",
    "from sklearn.model_selection import train_test_split\n",
    "from sklearn import datasets\n",
    "from sklearn.metrics import mean_squared_error\n",
    "\n",
    "\n",
    "x_train, x_test, y_train, y_test = train_test_split(x,y,test_size=0.10,random_state=42,shuffle=True)\n"
   ]
  },
  {
   "cell_type": "code",
   "execution_count": 68,
   "metadata": {},
   "outputs": [],
   "source": [
    "#Linear Regression 1"
   ]
  },
  {
   "cell_type": "code",
   "execution_count": 69,
   "metadata": {},
   "outputs": [
    {
     "name": "stdout",
     "output_type": "stream",
     "text": [
      "Score = 0.892861118669924\n"
     ]
    }
   ],
   "source": [
    "from sklearn.linear_model import LinearRegression\n",
    "my_model = LinearRegression()\n",
    "my_model.fit(x_train,y_train)\n",
    "pred=my_model.predict(x_test)\n",
    "print(\"Score =\",my_model.score(x_test, y_test))\n",
    "\n"
   ]
  },
  {
   "cell_type": "code",
   "execution_count": null,
   "metadata": {},
   "outputs": [],
   "source": []
  },
  {
   "cell_type": "code",
   "execution_count": null,
   "metadata": {},
   "outputs": [],
   "source": []
  },
  {
   "cell_type": "code",
   "execution_count": 70,
   "metadata": {},
   "outputs": [],
   "source": [
    "#Linear Regression 2"
   ]
  },
  {
   "cell_type": "code",
   "execution_count": 71,
   "metadata": {},
   "outputs": [
    {
     "name": "stdout",
     "output_type": "stream",
     "text": [
      "r2_score for linear regression model is   0.892861118669924\n",
      "Root mean squared error for linear regression model is  138160.38380553105\n"
     ]
    }
   ],
   "source": [
    "from sklearn.linear_model import LinearRegression\n",
    "from sklearn.metrics import r2_score,mean_squared_error\n",
    "#Create an object to regressor\n",
    "lr=LinearRegression()\n",
    "#fitting the object to training data\n",
    "lr.fit(x_train,y_train)\n",
    "#predicting using testing data\n",
    "y_predict=lr.predict(x_test)\n",
    "#Calculating the r2_score\n",
    "r=r2_score(y_test,y_predict)\n",
    "m=mean_squared_error(y_test,y_predict)\n",
    "print(\"r2_score for linear regression model is  \",r)\n",
    "print(\"Root mean squared error for linear regression model is \",np.sqrt(m))"
   ]
  },
  {
   "cell_type": "code",
   "execution_count": 72,
   "metadata": {},
   "outputs": [
    {
     "name": "stdout",
     "output_type": "stream",
     "text": [
      "    Placement\n",
      "62     280000\n",
      "40          0\n",
      "95     200000\n",
      "18     400000\n",
      "97     300000\n",
      "84     200000\n",
      "64     160000\n",
      "42    1300000\n",
      "10          0\n",
      "0     1100000 \n",
      "  [[ 290038.62488812]\n",
      " [  70807.36614716]\n",
      " [ 456306.46664074]\n",
      " [ 252499.26015427]\n",
      " [ 477637.73190397]\n",
      " [ 226067.14443968]\n",
      " [ 205284.21809214]\n",
      " [1323431.24282239]\n",
      " [  18610.33790088]\n",
      " [ 848726.64624906]]\n"
     ]
    }
   ],
   "source": [
    "print(y_test,\"\\n \",y_predict)"
   ]
  },
  {
   "cell_type": "code",
   "execution_count": 73,
   "metadata": {},
   "outputs": [
    {
     "name": "stdout",
     "output_type": "stream",
     "text": [
      "[[ 290038.62488812]\n",
      " [  70807.36614716]\n",
      " [ 456306.46664074]\n",
      " [ 252499.26015427]\n",
      " [ 477637.73190397]\n",
      " [ 226067.14443968]\n",
      " [ 205284.21809214]\n",
      " [1323431.24282239]\n",
      " [  18610.33790088]\n",
      " [ 848726.64624906]]\n"
     ]
    }
   ],
   "source": [
    "print(y_predict)"
   ]
  },
  {
   "cell_type": "code",
   "execution_count": 74,
   "metadata": {},
   "outputs": [],
   "source": [
    "xp=[[4.1,7,0,0,0,2,0]]"
   ]
  },
  {
   "cell_type": "code",
   "execution_count": 75,
   "metadata": {},
   "outputs": [],
   "source": [
    "ynew = lr.predict(xp)"
   ]
  },
  {
   "cell_type": "code",
   "execution_count": 76,
   "metadata": {},
   "outputs": [
    {
     "name": "stdout",
     "output_type": "stream",
     "text": [
      "[[169942.7442756]]\n"
     ]
    }
   ],
   "source": [
    "print(ynew)"
   ]
  },
  {
   "cell_type": "code",
   "execution_count": 77,
   "metadata": {},
   "outputs": [],
   "source": [
    "#Pllynomial Regression"
   ]
  },
  {
   "cell_type": "code",
   "execution_count": null,
   "metadata": {},
   "outputs": [],
   "source": []
  },
  {
   "cell_type": "code",
   "execution_count": null,
   "metadata": {},
   "outputs": [],
   "source": []
  },
  {
   "cell_type": "code",
   "execution_count": null,
   "metadata": {},
   "outputs": [],
   "source": []
  },
  {
   "cell_type": "code",
   "execution_count": null,
   "metadata": {},
   "outputs": [],
   "source": []
  },
  {
   "cell_type": "code",
   "execution_count": null,
   "metadata": {},
   "outputs": [],
   "source": [
    "\n",
    "\n"
   ]
  },
  {
   "cell_type": "code",
   "execution_count": 78,
   "metadata": {},
   "outputs": [],
   "source": [
    "#KNN Neighbours"
   ]
  },
  {
   "cell_type": "code",
   "execution_count": 79,
   "metadata": {},
   "outputs": [
    {
     "name": "stdout",
     "output_type": "stream",
     "text": [
      "r2_score for k-neighbors  regression model is   0.9401489638759795\n",
      "Root mean squared error for k-neighbors regression model is  103263.25580766858\n"
     ]
    }
   ],
   "source": [
    "from sklearn.metrics import accuracy_score \n",
    "from sklearn.metrics import r2_score,mean_squared_error\n",
    "from sklearn.neighbors import KNeighborsRegressor\n",
    "kn=KNeighborsRegressor(n_neighbors=10)\n",
    "kn.fit(x_train,y_train)\n",
    "y_pred2=kn.predict(x_test)\n",
    "r=r2_score(y_test,y_pred2)\n",
    "m=mean_squared_error(y_test,y_pred2)\n",
    "print(\"r2_score for k-neighbors  regression model is  \",r)\n",
    "print(\"Root mean squared error for k-neighbors regression model is \",np.sqrt(m))"
   ]
  },
  {
   "cell_type": "code",
   "execution_count": 80,
   "metadata": {},
   "outputs": [
    {
     "name": "stdout",
     "output_type": "stream",
     "text": [
      "    Placement\n",
      "62     280000\n",
      "40          0\n",
      "95     200000\n",
      "18     400000\n",
      "97     300000\n",
      "84     200000\n",
      "64     160000\n",
      "42    1300000\n",
      "10          0\n",
      "0     1100000\n"
     ]
    }
   ],
   "source": [
    "print(y_test)"
   ]
  },
  {
   "cell_type": "code",
   "execution_count": 81,
   "metadata": {},
   "outputs": [
    {
     "name": "stdout",
     "output_type": "stream",
     "text": [
      "[[ 189000.]\n",
      " [      0.]\n",
      " [ 353000.]\n",
      " [ 442000.]\n",
      " [ 220000.]\n",
      " [ 223000.]\n",
      " [ 260000.]\n",
      " [1111000.]\n",
      " [  48000.]\n",
      " [ 965000.]]\n"
     ]
    }
   ],
   "source": [
    "print(y_pred2)"
   ]
  },
  {
   "cell_type": "code",
   "execution_count": 82,
   "metadata": {},
   "outputs": [
    {
     "name": "stdout",
     "output_type": "stream",
     "text": [
      "[[585000.]]\n"
     ]
    }
   ],
   "source": [
    "xp=[[8.19,0,0,0,1,3,1]]\n",
    "ynew = kn.predict(xp)\n",
    "print(ynew)"
   ]
  },
  {
   "cell_type": "code",
   "execution_count": 83,
   "metadata": {},
   "outputs": [],
   "source": [
    "#Desicion Tree"
   ]
  },
  {
   "cell_type": "code",
   "execution_count": 84,
   "metadata": {},
   "outputs": [
    {
     "name": "stdout",
     "output_type": "stream",
     "text": [
      "r2_score for decision tree regression model is   0.7266002110415123\n",
      "Root mean squared error for decision tree regression model is  220703.42090688128\n"
     ]
    }
   ],
   "source": [
    "from sklearn.tree import DecisionTreeRegressor\n",
    "dt=DecisionTreeRegressor(random_state=13)\n",
    "dt.fit(x_train,y_train)\n",
    "y_pred1=dt.predict(x_test)\n",
    "r=r2_score(y_test,y_pred1)\n",
    "m=mean_squared_error(y_test,y_pred1)\n",
    "print(\"r2_score for decision tree regression model is  \",r)\n",
    "print(\"Root mean squared error for decision tree regression model is \",np.sqrt(m))"
   ]
  },
  {
   "cell_type": "code",
   "execution_count": 85,
   "metadata": {},
   "outputs": [
    {
     "name": "stdout",
     "output_type": "stream",
     "text": [
      "[300000.]\n"
     ]
    }
   ],
   "source": [
    "xp1=[[6.2,0,0,1,0,2,1]]\n",
    "ynew1 = dt.predict(xp1)\n",
    "print(ynew1)"
   ]
  },
  {
   "cell_type": "code",
   "execution_count": 86,
   "metadata": {},
   "outputs": [
    {
     "name": "stdout",
     "output_type": "stream",
     "text": [
      "    Placement\n",
      "62     280000\n",
      "40          0\n",
      "95     200000\n",
      "18     400000\n",
      "97     300000\n",
      "84     200000\n",
      "64     160000\n",
      "42    1300000\n",
      "10          0\n",
      "0     1100000      [ 120000.       0.  570000.  340000.  450000.  120000.  180000. 1290000.\n",
      "       0.  560000.]\n"
     ]
    }
   ],
   "source": [
    "print(y_test,\"    \",y_pred1)"
   ]
  },
  {
   "cell_type": "code",
   "execution_count": null,
   "metadata": {},
   "outputs": [],
   "source": []
  },
  {
   "cell_type": "code",
   "execution_count": 87,
   "metadata": {},
   "outputs": [
    {
     "name": "stdout",
     "output_type": "stream",
     "text": [
      "Requirement already satisfied: xgboost in c:\\users\\asus\\anaconda3\\lib\\site-packages (1.2.1)\n",
      "Requirement already satisfied: numpy in c:\\users\\asus\\anaconda3\\lib\\site-packages (from xgboost) (1.18.1)\n",
      "Requirement already satisfied: scipy in c:\\users\\asus\\anaconda3\\lib\\site-packages (from xgboost) (1.4.1)\n"
     ]
    }
   ],
   "source": [
    "#xgbooost Regre\n",
    "!pip install xgboost"
   ]
  },
  {
   "cell_type": "code",
   "execution_count": 88,
   "metadata": {},
   "outputs": [
    {
     "name": "stdout",
     "output_type": "stream",
     "text": [
      "r2_score for xgboost regression model is   0.8568605779021826\n",
      "Root mean squared error for xgboost regression model is  159694.37059156323\n"
     ]
    }
   ],
   "source": [
    "from xgboost import XGBRegressor\n",
    "model=XGBRegressor()\n",
    "model.fit(x_train,y_train)\n",
    "y_p=model.predict(x_test)\n",
    "r=r2_score(y_test,y_p)\n",
    "m=mean_squared_error(y_test,y_p)\n",
    "print(\"r2_score for xgboost regression model is  \",r)\n",
    "print(\"Root mean squared error for xgboost regression model is \",np.sqrt(m))"
   ]
  },
  {
   "cell_type": "code",
   "execution_count": null,
   "metadata": {},
   "outputs": [],
   "source": []
  },
  {
   "cell_type": "code",
   "execution_count": 89,
   "metadata": {},
   "outputs": [
    {
     "name": "stdout",
     "output_type": "stream",
     "text": [
      "    Placement\n",
      "62     280000\n",
      "40          0\n",
      "95     200000\n",
      "18     400000\n",
      "97     300000\n",
      "84     200000\n",
      "64     160000\n",
      "42    1300000\n",
      "10          0\n",
      "0     1100000        [ 1.6556777e+05 -3.3162030e+02  3.9527181e+05  3.8024897e+05\n",
      "  3.5199869e+05  1.1909469e+05  1.8713138e+05  1.2900006e+06\n",
      " -8.5122330e+01  6.6031688e+05]\n"
     ]
    }
   ],
   "source": [
    "print(y_test,\"      \",y_p)"
   ]
  },
  {
   "cell_type": "code",
   "execution_count": null,
   "metadata": {},
   "outputs": [],
   "source": []
  },
  {
   "cell_type": "code",
   "execution_count": null,
   "metadata": {},
   "outputs": [],
   "source": []
  },
  {
   "cell_type": "code",
   "execution_count": 90,
   "metadata": {},
   "outputs": [],
   "source": [
    "# Gradient Boost regressor"
   ]
  },
  {
   "cell_type": "code",
   "execution_count": 91,
   "metadata": {},
   "outputs": [
    {
     "name": "stderr",
     "output_type": "stream",
     "text": [
      "C:\\Users\\Asus\\anaconda3\\lib\\site-packages\\sklearn\\ensemble\\_gb.py:1454: DataConversionWarning: A column-vector y was passed when a 1d array was expected. Please change the shape of y to (n_samples, ), for example using ravel().\n",
      "  y = column_or_1d(y, warn=True)\n"
     ]
    },
    {
     "name": "stdout",
     "output_type": "stream",
     "text": [
      "Score = 0.8596471837216663\n",
      "Root mean squared error for xgboost regression model is  158132.28373552652\n"
     ]
    }
   ],
   "source": [
    "from sklearn import ensemble\n",
    "clf = ensemble.GradientBoostingRegressor(n_estimators = 400, max_depth = 5, min_samples_split = 2,\n",
    "          learning_rate = 0.1, loss = 'ls')\n",
    "clf.fit(x_train, y_train)\n",
    "\n",
    "print(\"Score =\",clf.score(x_test,y_test))\n",
    "pred=clf.predict(x_test)\n",
    "m=mean_squared_error(y_test,pred)\n",
    "print(\"Root mean squared error for xgboost regression model is \",np.sqrt(m))"
   ]
  },
  {
   "cell_type": "code",
   "execution_count": 92,
   "metadata": {},
   "outputs": [
    {
     "name": "stdout",
     "output_type": "stream",
     "text": [
      "[324256.77678289]\n"
     ]
    }
   ],
   "source": [
    "xp=[[6.2,0,0,1,0,2,1]]\n",
    "ynew = clf.predict(xp)\n",
    "print(ynew)"
   ]
  },
  {
   "cell_type": "code",
   "execution_count": 93,
   "metadata": {},
   "outputs": [
    {
     "name": "stdout",
     "output_type": "stream",
     "text": [
      "    Placement\n",
      "62     280000\n",
      "40          0\n",
      "95     200000\n",
      "18     400000\n",
      "97     300000\n",
      "84     200000\n",
      "64     160000\n",
      "42    1300000\n",
      "10          0\n",
      "0     1100000     [ 1.63424138e+05 -9.24036400e+01  3.52306320e+05  3.89505848e+05\n",
      "  3.80083380e+05  1.18649400e+05  1.68282680e+05  1.28436729e+06\n",
      "  1.12190203e+03  6.52992843e+05]\n"
     ]
    }
   ],
   "source": [
    "print(y_test,\"   \",pred)"
   ]
  },
  {
   "cell_type": "code",
   "execution_count": null,
   "metadata": {},
   "outputs": [],
   "source": []
  },
  {
   "cell_type": "code",
   "execution_count": 94,
   "metadata": {},
   "outputs": [
    {
     "name": "stdout",
     "output_type": "stream",
     "text": [
      "Requirement already satisfied: lightgbm in c:\\users\\asus\\anaconda3\\lib\\site-packages (3.0.0)\n",
      "Requirement already satisfied: scipy in c:\\users\\asus\\anaconda3\\lib\\site-packages (from lightgbm) (1.4.1)\n",
      "Requirement already satisfied: scikit-learn!=0.22.0 in c:\\users\\asus\\anaconda3\\lib\\site-packages (from lightgbm) (0.22.1)\n",
      "Requirement already satisfied: numpy in c:\\users\\asus\\anaconda3\\lib\\site-packages (from lightgbm) (1.18.1)\n",
      "Requirement already satisfied: joblib>=0.11 in c:\\users\\asus\\anaconda3\\lib\\site-packages (from scikit-learn!=0.22.0->lightgbm) (0.14.1)\n"
     ]
    }
   ],
   "source": [
    "#lgbm Regressor\n",
    "!pip install lightgbm"
   ]
  },
  {
   "cell_type": "code",
   "execution_count": 95,
   "metadata": {},
   "outputs": [
    {
     "name": "stdout",
     "output_type": "stream",
     "text": [
      "r2_score for LGBM regression model is   0.8674666873045027\n",
      "Root mean squared error for LGBM regression model is  153664.1308929334\n"
     ]
    }
   ],
   "source": [
    "from lightgbm import LGBMRegressor\n",
    "lgbm=LGBMRegressor(random_state=45)\n",
    "lgbm.fit(x_train,y_train)\n",
    "y_predict1=lgbm.predict(x_test)\n",
    "r=r2_score(y_test,y_predict1)\n",
    "m=mean_squared_error(y_test,y_predict1)\n",
    "print(\"r2_score for LGBM regression model is  \",r)\n",
    "print(\"Root mean squared error for LGBM regression model is \",np.sqrt(m))"
   ]
  },
  {
   "cell_type": "code",
   "execution_count": 96,
   "metadata": {},
   "outputs": [
    {
     "name": "stdout",
     "output_type": "stream",
     "text": [
      "[322453.48515901]\n"
     ]
    }
   ],
   "source": [
    "xp=[[6.2,0,0,1,0,2,1]]\n",
    "ynew = lgbm.predict(xp)\n",
    "print(ynew)"
   ]
  },
  {
   "cell_type": "code",
   "execution_count": 97,
   "metadata": {},
   "outputs": [
    {
     "name": "stdout",
     "output_type": "stream",
     "text": [
      "    Placement\n",
      "62     280000\n",
      "40          0\n",
      "95     200000\n",
      "18     400000\n",
      "97     300000\n",
      "84     200000\n",
      "64     160000\n",
      "42    1300000\n",
      "10          0\n",
      "0     1100000        [ 168501.00379309   41177.93070001  322692.12114052  295764.82518904\n",
      "  317271.03339603  128255.09632459  150258.55508792 1045256.65304041\n",
      "   24626.56194566  746390.72562966]\n"
     ]
    }
   ],
   "source": [
    "print(y_test,\"      \",y_predict1)"
   ]
  },
  {
   "cell_type": "code",
   "execution_count": null,
   "metadata": {},
   "outputs": [],
   "source": []
  },
  {
   "cell_type": "code",
   "execution_count": 98,
   "metadata": {},
   "outputs": [
    {
     "name": "stderr",
     "output_type": "stream",
     "text": [
      "C:\\Users\\Asus\\anaconda3\\lib\\site-packages\\ipykernel_launcher.py:5: DataConversionWarning: A column-vector y was passed when a 1d array was expected. Please change the shape of y to (n_samples,), for example using ravel().\n",
      "  \"\"\"\n"
     ]
    },
    {
     "name": "stdout",
     "output_type": "stream",
     "text": [
      "r2_score for LGBM regression model is   0.8641139624166498\n",
      "Root mean squared error for LGBM regression model is  155595.62975867928\n"
     ]
    }
   ],
   "source": [
    "from sklearn import ensemble, model_selection \n",
    "RFC = ensemble.RandomForestClassifier( n_estimators = 100,max_depth = 8, min_samples_split = 4, n_jobs = -1, random_state = 1 )\n",
    "\n",
    "#fitting in to dataset\n",
    "RFC = RFC.fit(x_train, y_train)\n",
    "#Score of the train dataset\n",
    "\n",
    "\n",
    "\n",
    "y_predict1=RFC.predict(x_test)\n",
    "r=r2_score(y_test,y_predict1)\n",
    "m=mean_squared_error(y_test,y_predict1)\n",
    "print(\"r2_score for LGBM regression model is  \",r)\n",
    "print(\"Root mean squared error for LGBM regression model is \",np.sqrt(m))"
   ]
  },
  {
   "cell_type": "code",
   "execution_count": 99,
   "metadata": {},
   "outputs": [
    {
     "data": {
      "image/png": "[encoded data removed]",
      "text/plain": [
       "<Figure size 432x288 with 1 Axes>"
      ]
     },
     "metadata": {
      "needs_background": "light"
     },
     "output_type": "display_data"
    }
   ],
   "source": [
    "regressionmodels=['linear','knn','Decision Tree','xgb','Gradient Boost','lgbm','RandomForest']\n",
    "errors=['r2_score','RMSE']\n",
    "index = np.arange(len(regressionmodels))\n",
    "bar_width=0.35\n",
    "r=[0.9308,0.9104,0.85582,0.8967,0.8919,0.8718,0.987]\n",
    "m=[0.0624,0.07098,0.09005,0.07622,0.07796,0.08492,0.09876]\n",
    "plt.bar(index,r,bar_width,color='green',edgecolor='white')\n",
    "plt.bar(index+bar_width,m,bar_width,color='red',edgecolor='white')\n",
    "plt.xticks(index, regressionmodels)\n",
    "plt.xlabel('regression models', fontsize=1)\n",
    "\n",
    "plt.title('Metric score for different regression models',fontsize=18)\n",
    "plt.legend(errors)\n",
    "plt.show()"
   ]
  },
  {
   "cell_type": "code",
   "execution_count": null,
   "metadata": {},
   "outputs": [],
   "source": []
  },
  {
   "cell_type": "markdown",
   "metadata": {},
   "source": [
    " So here the best model is linear Regression "
   ]
  },
  {
   "cell_type": "markdown",
   "metadata": {},
   "source": [
    "# HYPOTHESIS TESTING"
   ]
  },
  {
   "cell_type": "markdown",
   "metadata": {},
   "source": [
    "# T Testing"
   ]
  },
  {
   "cell_type": "code",
   "execution_count": 141,
   "metadata": {},
   "outputs": [
    {
     "data": {
      "text/html": [
       "<div>\n",
       "<style scoped>\n",
       "    .dataframe tbody tr th:only-of-type {\n",
       "        vertical-align: middle;\n",
       "    }\n",
       "\n",
       "    .dataframe tbody tr th {\n",
       "        vertical-align: top;\n",
       "    }\n",
       "\n",
       "    .dataframe thead th {\n",
       "        text-align: right;\n",
       "    }\n",
       "</style>\n",
       "<table border=\"1\" class=\"dataframe\">\n",
       "  <thead>\n",
       "    <tr style=\"text-align: right;\">\n",
       "      <th></th>\n",
       "      <th>Roll.no</th>\n",
       "      <th>CGPA</th>\n",
       "      <th>tot_arriers</th>\n",
       "      <th>clrd_arriers</th>\n",
       "      <th>Interns</th>\n",
       "      <th>Paid_intrn</th>\n",
       "      <th>Projects</th>\n",
       "      <th>Articels</th>\n",
       "      <th>Placement</th>\n",
       "      <th>Sex</th>\n",
       "      <th>mass_recruiter</th>\n",
       "    </tr>\n",
       "  </thead>\n",
       "  <tbody>\n",
       "    <tr>\n",
       "      <th>0</th>\n",
       "      <td>cseXXXX</td>\n",
       "      <td>8.2</td>\n",
       "      <td>0</td>\n",
       "      <td>0</td>\n",
       "      <td>3</td>\n",
       "      <td>1</td>\n",
       "      <td>5</td>\n",
       "      <td>2</td>\n",
       "      <td>1100000</td>\n",
       "      <td>male</td>\n",
       "      <td>yes</td>\n",
       "    </tr>\n",
       "    <tr>\n",
       "      <th>1</th>\n",
       "      <td>cseXXXX</td>\n",
       "      <td>7.2</td>\n",
       "      <td>3</td>\n",
       "      <td>3</td>\n",
       "      <td>1</td>\n",
       "      <td>1</td>\n",
       "      <td>1</td>\n",
       "      <td>0</td>\n",
       "      <td>450000</td>\n",
       "      <td>male</td>\n",
       "      <td>no</td>\n",
       "    </tr>\n",
       "    <tr>\n",
       "      <th>2</th>\n",
       "      <td>cseXXXX</td>\n",
       "      <td>2.3</td>\n",
       "      <td>14</td>\n",
       "      <td>2</td>\n",
       "      <td>0</td>\n",
       "      <td>0</td>\n",
       "      <td>0</td>\n",
       "      <td>0</td>\n",
       "      <td>0</td>\n",
       "      <td>male</td>\n",
       "      <td>no</td>\n",
       "    </tr>\n",
       "    <tr>\n",
       "      <th>3</th>\n",
       "      <td>cseXXXX</td>\n",
       "      <td>6.5</td>\n",
       "      <td>0</td>\n",
       "      <td>0</td>\n",
       "      <td>1</td>\n",
       "      <td>2</td>\n",
       "      <td>3</td>\n",
       "      <td>1</td>\n",
       "      <td>350000</td>\n",
       "      <td>male</td>\n",
       "      <td>yes</td>\n",
       "    </tr>\n",
       "    <tr>\n",
       "      <th>4</th>\n",
       "      <td>cseXXXX</td>\n",
       "      <td>9.5</td>\n",
       "      <td>0</td>\n",
       "      <td>0</td>\n",
       "      <td>1</td>\n",
       "      <td>1</td>\n",
       "      <td>1</td>\n",
       "      <td>1</td>\n",
       "      <td>1050000</td>\n",
       "      <td>female</td>\n",
       "      <td>yes</td>\n",
       "    </tr>\n",
       "  </tbody>\n",
       "</table>\n",
       "</div>"
      ],
      "text/plain": [
       "   Roll.no  CGPA  tot_arriers  clrd_arriers  Interns  Paid_intrn  Projects  \\\n",
       "0  cseXXXX   8.2            0             0        3           1         5   \n",
       "1  cseXXXX   7.2            3             3        1           1         1   \n",
       "2  cseXXXX   2.3           14             2        0           0         0   \n",
       "3  cseXXXX   6.5            0             0        1           2         3   \n",
       "4  cseXXXX   9.5            0             0        1           1         1   \n",
       "\n",
       "   Articels  Placement     Sex mass_recruiter  \n",
       "0         2    1100000    male            yes  \n",
       "1         0     450000    male             no  \n",
       "2         0          0    male             no  \n",
       "3         1     350000    male            yes  \n",
       "4         1    1050000  female            yes  "
      ]
     },
     "execution_count": 141,
     "metadata": {},
     "output_type": "execute_result"
    }
   ],
   "source": [
    "dat.head()"
   ]
  },
  {
   "cell_type": "code",
   "execution_count": 142,
   "metadata": {},
   "outputs": [
    {
     "data": {
      "text/plain": [
       "99"
      ]
     },
     "execution_count": 142,
     "metadata": {},
     "output_type": "execute_result"
    }
   ],
   "source": [
    "place=dat[\"Placement\"]\n",
    "len(place)"
   ]
  },
  {
   "cell_type": "code",
   "execution_count": 143,
   "metadata": {},
   "outputs": [
    {
     "name": "stdout",
     "output_type": "stream",
     "text": [
      "411000.0\n"
     ]
    }
   ],
   "source": [
    "import numpy as np\n",
    "place_mean=np.mean(place)\n",
    "print(place_mean)\n"
   ]
  },
  {
   "cell_type": "code",
   "execution_count": 144,
   "metadata": {},
   "outputs": [
    {
     "data": {
      "text/plain": [
       "array([ 760000,       0,  200000,  120000,  380000,  970000,  800000,\n",
       "        370000,  360000,  560000,  380000,       0,  450000,       0,\n",
       "       1050000,  270000,  100000,       0,  460000,  450000], dtype=int64)"
      ]
     },
     "execution_count": 144,
     "metadata": {},
     "output_type": "execute_result"
    }
   ],
   "source": [
    "## Lets take sample\n",
    "\n",
    "sample_size=20\n",
    "place_sample=np.random.choice(place,sample_size)\n",
    "place_sample"
   ]
  },
  {
   "cell_type": "code",
   "execution_count": 145,
   "metadata": {},
   "outputs": [],
   "source": [
    "from scipy.stats import ttest_1samp\n",
    "ttest,p_value=ttest_1samp(place_sample,411000.0)"
   ]
  },
  {
   "cell_type": "code",
   "execution_count": 146,
   "metadata": {},
   "outputs": [
    {
     "name": "stdout",
     "output_type": "stream",
     "text": [
      "0.7093284077686068\n"
     ]
    }
   ],
   "source": [
    "print(p_value)"
   ]
  },
  {
   "cell_type": "code",
   "execution_count": 147,
   "metadata": {},
   "outputs": [
    {
     "name": "stdout",
     "output_type": "stream",
     "text": [
      "we are accepting null hypothesis\n"
     ]
    }
   ],
   "source": [
    "if p_value < 0.05:    # alpha value is 0.05 or 5%\n",
    "    print(\" we are rejecting null hypothesis\")\n",
    "else:\n",
    "    print(\"we are accepting null hypothesis\")"
   ]
  },
  {
   "cell_type": "code",
   "execution_count": null,
   "metadata": {},
   "outputs": [],
   "source": []
  },
  {
   "cell_type": "markdown",
   "metadata": {},
   "source": [
    "# Paired T Test"
   ]
  },
  {
   "cell_type": "code",
   "execution_count": 148,
   "metadata": {},
   "outputs": [],
   "source": [
    "import scipy.stats as stats\n",
    "import math"
   ]
  },
  {
   "cell_type": "code",
   "execution_count": 149,
   "metadata": {},
   "outputs": [],
   "source": [
    "#print(place)\n",
    "place2=place+stats.norm.rvs(scale =100,loc=-1.25,size=99)\n"
   ]
  },
  {
   "cell_type": "code",
   "execution_count": 150,
   "metadata": {},
   "outputs": [
    {
     "name": "stdout",
     "output_type": "stream",
     "text": [
      "0     1100000\n",
      "1      450000\n",
      "2           0\n",
      "3      350000\n",
      "4     1050000\n",
      "       ...   \n",
      "94     650000\n",
      "95     200000\n",
      "96     180000\n",
      "97     300000\n",
      "98     270000\n",
      "Name: Placement, Length: 99, dtype: int64\n",
      "0     1.100128e+06\n",
      "1     4.499688e+05\n",
      "2    -9.942210e+00\n",
      "3     3.499173e+05\n",
      "4     1.049895e+06\n",
      "          ...     \n",
      "94    6.500582e+05\n",
      "95    1.999856e+05\n",
      "96    1.799322e+05\n",
      "97    3.000596e+05\n",
      "98    2.700129e+05\n",
      "Name: Placement, Length: 99, dtype: float64\n"
     ]
    }
   ],
   "source": [
    "print(place)\n",
    "print(place2)"
   ]
  },
  {
   "cell_type": "code",
   "execution_count": 151,
   "metadata": {},
   "outputs": [],
   "source": [
    "placeF=pd.DataFrame({\"initPlace\":np.array(place),\n",
    "                         \"foundPlace\":np.array(place2),\n",
    "                       \"Place_change\":np.array(place2)-np.array(place)})"
   ]
  },
  {
   "cell_type": "code",
   "execution_count": 152,
   "metadata": {},
   "outputs": [
    {
     "data": {
      "text/html": [
       "<div>\n",
       "<style scoped>\n",
       "    .dataframe tbody tr th:only-of-type {\n",
       "        vertical-align: middle;\n",
       "    }\n",
       "\n",
       "    .dataframe tbody tr th {\n",
       "        vertical-align: top;\n",
       "    }\n",
       "\n",
       "    .dataframe thead th {\n",
       "        text-align: right;\n",
       "    }\n",
       "</style>\n",
       "<table border=\"1\" class=\"dataframe\">\n",
       "  <thead>\n",
       "    <tr style=\"text-align: right;\">\n",
       "      <th></th>\n",
       "      <th>initPlace</th>\n",
       "      <th>foundPlace</th>\n",
       "      <th>Place_change</th>\n",
       "    </tr>\n",
       "  </thead>\n",
       "  <tbody>\n",
       "    <tr>\n",
       "      <th>0</th>\n",
       "      <td>1100000</td>\n",
       "      <td>1.100128e+06</td>\n",
       "      <td>127.555158</td>\n",
       "    </tr>\n",
       "    <tr>\n",
       "      <th>1</th>\n",
       "      <td>450000</td>\n",
       "      <td>4.499688e+05</td>\n",
       "      <td>-31.177005</td>\n",
       "    </tr>\n",
       "    <tr>\n",
       "      <th>2</th>\n",
       "      <td>0</td>\n",
       "      <td>-9.942210e+00</td>\n",
       "      <td>-9.942210</td>\n",
       "    </tr>\n",
       "    <tr>\n",
       "      <th>3</th>\n",
       "      <td>350000</td>\n",
       "      <td>3.499173e+05</td>\n",
       "      <td>-82.654768</td>\n",
       "    </tr>\n",
       "    <tr>\n",
       "      <th>4</th>\n",
       "      <td>1050000</td>\n",
       "      <td>1.049895e+06</td>\n",
       "      <td>-105.386364</td>\n",
       "    </tr>\n",
       "    <tr>\n",
       "      <th>...</th>\n",
       "      <td>...</td>\n",
       "      <td>...</td>\n",
       "      <td>...</td>\n",
       "    </tr>\n",
       "    <tr>\n",
       "      <th>94</th>\n",
       "      <td>650000</td>\n",
       "      <td>6.500582e+05</td>\n",
       "      <td>58.226318</td>\n",
       "    </tr>\n",
       "    <tr>\n",
       "      <th>95</th>\n",
       "      <td>200000</td>\n",
       "      <td>1.999856e+05</td>\n",
       "      <td>-14.357313</td>\n",
       "    </tr>\n",
       "    <tr>\n",
       "      <th>96</th>\n",
       "      <td>180000</td>\n",
       "      <td>1.799322e+05</td>\n",
       "      <td>-67.835569</td>\n",
       "    </tr>\n",
       "    <tr>\n",
       "      <th>97</th>\n",
       "      <td>300000</td>\n",
       "      <td>3.000596e+05</td>\n",
       "      <td>59.599786</td>\n",
       "    </tr>\n",
       "    <tr>\n",
       "      <th>98</th>\n",
       "      <td>270000</td>\n",
       "      <td>2.700129e+05</td>\n",
       "      <td>12.889327</td>\n",
       "    </tr>\n",
       "  </tbody>\n",
       "</table>\n",
       "<p>99 rows × 3 columns</p>\n",
       "</div>"
      ],
      "text/plain": [
       "    initPlace    foundPlace  Place_change\n",
       "0     1100000  1.100128e+06    127.555158\n",
       "1      450000  4.499688e+05    -31.177005\n",
       "2           0 -9.942210e+00     -9.942210\n",
       "3      350000  3.499173e+05    -82.654768\n",
       "4     1050000  1.049895e+06   -105.386364\n",
       "..        ...           ...           ...\n",
       "94     650000  6.500582e+05     58.226318\n",
       "95     200000  1.999856e+05    -14.357313\n",
       "96     180000  1.799322e+05    -67.835569\n",
       "97     300000  3.000596e+05     59.599786\n",
       "98     270000  2.700129e+05     12.889327\n",
       "\n",
       "[99 rows x 3 columns]"
      ]
     },
     "execution_count": 152,
     "metadata": {},
     "output_type": "execute_result"
    }
   ],
   "source": [
    "placeF"
   ]
  },
  {
   "cell_type": "code",
   "execution_count": 153,
   "metadata": {},
   "outputs": [],
   "source": [
    "_,p_value=stats.ttest_rel(a=place,b=place2)"
   ]
  },
  {
   "cell_type": "code",
   "execution_count": 154,
   "metadata": {},
   "outputs": [
    {
     "name": "stdout",
     "output_type": "stream",
     "text": [
      "0.43746017413988303\n"
     ]
    }
   ],
   "source": [
    "print(p_value)"
   ]
  },
  {
   "cell_type": "code",
   "execution_count": 155,
   "metadata": {},
   "outputs": [
    {
     "name": "stdout",
     "output_type": "stream",
     "text": [
      "we are accepting null hypothesis\n"
     ]
    }
   ],
   "source": [
    "if p_value < 0.05:    # alpha value is 0.05 or 5%\n",
    "    print(\" we are rejecting null hypothesis\")\n",
    "else:\n",
    "    print(\"we are accepting null hypothesis\")"
   ]
  },
  {
   "cell_type": "code",
   "execution_count": null,
   "metadata": {},
   "outputs": [],
   "source": []
  },
  {
   "cell_type": "markdown",
   "metadata": {},
   "source": [
    "# Chi-Square Test"
   ]
  },
  {
   "cell_type": "code",
   "execution_count": 157,
   "metadata": {},
   "outputs": [
    {
     "name": "stdout",
     "output_type": "stream",
     "text": [
      "mass_recruiter  no  yes\n",
      "Sex                    \n",
      "female          36   11\n",
      "female           3    0\n",
      "male            18   30\n",
      "male             1    0\n"
     ]
    }
   ],
   "source": [
    "dataset_table=pd.crosstab(dat['Sex'],dat['mass_recruiter'])\n",
    "print(dataset_table)"
   ]
  },
  {
   "cell_type": "code",
   "execution_count": 158,
   "metadata": {},
   "outputs": [
    {
     "data": {
      "text/plain": [
       "array([[36, 11],\n",
       "       [ 3,  0],\n",
       "       [18, 30],\n",
       "       [ 1,  0]], dtype=int64)"
      ]
     },
     "execution_count": 158,
     "metadata": {},
     "output_type": "execute_result"
    }
   ],
   "source": [
    "dataset_table.values"
   ]
  },
  {
   "cell_type": "code",
   "execution_count": 159,
   "metadata": {},
   "outputs": [
    {
     "name": "stdout",
     "output_type": "stream",
     "text": [
      "Observed Values :-\n",
      " [[36 11]\n",
      " [ 3  0]\n",
      " [18 30]\n",
      " [ 1  0]]\n"
     ]
    }
   ],
   "source": [
    "Observed_Values = dataset_table.values \n",
    "print(\"Observed Values :-\\n\",Observed_Values)"
   ]
  },
  {
   "cell_type": "code",
   "execution_count": 160,
   "metadata": {},
   "outputs": [],
   "source": [
    "\n",
    "val=stats.chi2_contingency(dataset_table)"
   ]
  },
  {
   "cell_type": "code",
   "execution_count": 161,
   "metadata": {},
   "outputs": [
    {
     "data": {
      "text/plain": [
       "(17.906691211996492,\n",
       " 0.00045977568021007506,\n",
       " 3,\n",
       " array([[27.53535354, 19.46464646],\n",
       "        [ 1.75757576,  1.24242424],\n",
       "        [28.12121212, 19.87878788],\n",
       "        [ 0.58585859,  0.41414141]]))"
      ]
     },
     "execution_count": 161,
     "metadata": {},
     "output_type": "execute_result"
    }
   ],
   "source": [
    "val"
   ]
  },
  {
   "cell_type": "code",
   "execution_count": 162,
   "metadata": {},
   "outputs": [],
   "source": [
    "Expected_Values=val[3]"
   ]
  },
  {
   "cell_type": "code",
   "execution_count": 163,
   "metadata": {},
   "outputs": [
    {
     "name": "stdout",
     "output_type": "stream",
     "text": [
      "Degree of Freedom:- 1\n"
     ]
    }
   ],
   "source": [
    "no_of_rows=len(dataset_table.iloc[0:2,0])\n",
    "no_of_columns=len(dataset_table.iloc[0,0:2])\n",
    "ddof=(no_of_rows-1)*(no_of_columns-1)\n",
    "print(\"Degree of Freedom:-\",ddof)\n",
    "alpha = 0.05"
   ]
  },
  {
   "cell_type": "code",
   "execution_count": 164,
   "metadata": {},
   "outputs": [],
   "source": [
    "from scipy.stats import chi2\n",
    "chi_square=sum([(o-e)**2./e for o,e in zip(Observed_Values,Expected_Values)])\n",
    "chi_square_statistic=chi_square[0]+chi_square[1]"
   ]
  },
  {
   "cell_type": "code",
   "execution_count": 165,
   "metadata": {},
   "outputs": [
    {
     "name": "stdout",
     "output_type": "stream",
     "text": [
      "chi-square statistic:- 17.906691211996492\n"
     ]
    }
   ],
   "source": [
    "print(\"chi-square statistic:-\",chi_square_statistic)"
   ]
  },
  {
   "cell_type": "code",
   "execution_count": 166,
   "metadata": {},
   "outputs": [
    {
     "name": "stdout",
     "output_type": "stream",
     "text": [
      "critical_value: 3.841458820694124\n"
     ]
    }
   ],
   "source": [
    "critical_value=chi2.ppf(q=1-alpha,df=ddof)\n",
    "print('critical_value:',critical_value)"
   ]
  },
  {
   "cell_type": "code",
   "execution_count": 167,
   "metadata": {},
   "outputs": [
    {
     "name": "stdout",
     "output_type": "stream",
     "text": [
      "p-value: 2.32003988999141e-05\n",
      "Significance level:  0.05\n",
      "Degree of Freedom:  1\n",
      "p-value: 2.32003988999141e-05\n"
     ]
    }
   ],
   "source": [
    "p_value=1-chi2.cdf(x=chi_square_statistic,df=ddof)\n",
    "print('p-value:',p_value)\n",
    "print('Significance level: ',alpha)\n",
    "print('Degree of Freedom: ',ddof)\n",
    "print('p-value:',p_value)"
   ]
  },
  {
   "cell_type": "code",
   "execution_count": 170,
   "metadata": {},
   "outputs": [
    {
     "name": "stdout",
     "output_type": "stream",
     "text": [
      "Reject H0,There is a relationship between 2 categorical variables\n"
     ]
    }
   ],
   "source": [
    "if chi_square_statistic>=critical_value:\n",
    "    print(\"Reject H0,There is a relationship between 2 categorical variables\")\n",
    "else:\n",
    "    print(\"Retain H0,There is no relationship between 2 categorical variables\")\n",
    "    \n"
   ]
  },
  {
   "cell_type": "code",
   "execution_count": 169,
   "metadata": {},
   "outputs": [
    {
     "name": "stdout",
     "output_type": "stream",
     "text": [
      "Reject H0,There is a relationship between 2 categorical variables\n"
     ]
    }
   ],
   "source": [
    "if p_value<=alpha:\n",
    "    print(\"Reject H0,There is a relationship between 2 categorical variables\")\n",
    "else:\n",
    "    print(\"Retain H0,There is no relationship between 2 categorical variables\")"
   ]
  },
  {
   "cell_type": "code",
   "execution_count": null,
   "metadata": {},
   "outputs": [],
   "source": []
  },
  {
   "cell_type": "markdown",
   "metadata": {},
   "source": [
    "# Correlation"
   ]
  },
  {
   "cell_type": "code",
   "execution_count": 172,
   "metadata": {},
   "outputs": [
    {
     "data": {
      "text/html": [
       "<div>\n",
       "<style scoped>\n",
       "    .dataframe tbody tr th:only-of-type {\n",
       "        vertical-align: middle;\n",
       "    }\n",
       "\n",
       "    .dataframe tbody tr th {\n",
       "        vertical-align: top;\n",
       "    }\n",
       "\n",
       "    .dataframe thead th {\n",
       "        text-align: right;\n",
       "    }\n",
       "</style>\n",
       "<table border=\"1\" class=\"dataframe\">\n",
       "  <thead>\n",
       "    <tr style=\"text-align: right;\">\n",
       "      <th></th>\n",
       "      <th>CGPA</th>\n",
       "      <th>tot_arriers</th>\n",
       "      <th>clrd_arriers</th>\n",
       "      <th>Interns</th>\n",
       "      <th>Paid_intrn</th>\n",
       "      <th>Projects</th>\n",
       "      <th>Articels</th>\n",
       "      <th>Placement</th>\n",
       "    </tr>\n",
       "  </thead>\n",
       "  <tbody>\n",
       "    <tr>\n",
       "      <th>CGPA</th>\n",
       "      <td>1.000000</td>\n",
       "      <td>-0.855397</td>\n",
       "      <td>-0.691718</td>\n",
       "      <td>0.533654</td>\n",
       "      <td>0.239860</td>\n",
       "      <td>0.508915</td>\n",
       "      <td>0.597953</td>\n",
       "      <td>0.873205</td>\n",
       "    </tr>\n",
       "    <tr>\n",
       "      <th>tot_arriers</th>\n",
       "      <td>-0.855397</td>\n",
       "      <td>1.000000</td>\n",
       "      <td>0.776991</td>\n",
       "      <td>-0.378097</td>\n",
       "      <td>-0.208105</td>\n",
       "      <td>-0.350926</td>\n",
       "      <td>-0.392439</td>\n",
       "      <td>-0.606545</td>\n",
       "    </tr>\n",
       "    <tr>\n",
       "      <th>clrd_arriers</th>\n",
       "      <td>-0.691718</td>\n",
       "      <td>0.776991</td>\n",
       "      <td>1.000000</td>\n",
       "      <td>-0.269568</td>\n",
       "      <td>-0.086495</td>\n",
       "      <td>-0.280475</td>\n",
       "      <td>-0.315655</td>\n",
       "      <td>-0.563882</td>\n",
       "    </tr>\n",
       "    <tr>\n",
       "      <th>Interns</th>\n",
       "      <td>0.533654</td>\n",
       "      <td>-0.378097</td>\n",
       "      <td>-0.269568</td>\n",
       "      <td>1.000000</td>\n",
       "      <td>0.237352</td>\n",
       "      <td>0.655837</td>\n",
       "      <td>0.612065</td>\n",
       "      <td>0.613079</td>\n",
       "    </tr>\n",
       "    <tr>\n",
       "      <th>Paid_intrn</th>\n",
       "      <td>0.239860</td>\n",
       "      <td>-0.208105</td>\n",
       "      <td>-0.086495</td>\n",
       "      <td>0.237352</td>\n",
       "      <td>1.000000</td>\n",
       "      <td>0.392518</td>\n",
       "      <td>0.358120</td>\n",
       "      <td>0.296479</td>\n",
       "    </tr>\n",
       "    <tr>\n",
       "      <th>Projects</th>\n",
       "      <td>0.508915</td>\n",
       "      <td>-0.350926</td>\n",
       "      <td>-0.280475</td>\n",
       "      <td>0.655837</td>\n",
       "      <td>0.392518</td>\n",
       "      <td>1.000000</td>\n",
       "      <td>0.587158</td>\n",
       "      <td>0.694861</td>\n",
       "    </tr>\n",
       "    <tr>\n",
       "      <th>Articels</th>\n",
       "      <td>0.597953</td>\n",
       "      <td>-0.392439</td>\n",
       "      <td>-0.315655</td>\n",
       "      <td>0.612065</td>\n",
       "      <td>0.358120</td>\n",
       "      <td>0.587158</td>\n",
       "      <td>1.000000</td>\n",
       "      <td>0.739054</td>\n",
       "    </tr>\n",
       "    <tr>\n",
       "      <th>Placement</th>\n",
       "      <td>0.873205</td>\n",
       "      <td>-0.606545</td>\n",
       "      <td>-0.563882</td>\n",
       "      <td>0.613079</td>\n",
       "      <td>0.296479</td>\n",
       "      <td>0.694861</td>\n",
       "      <td>0.739054</td>\n",
       "      <td>1.000000</td>\n",
       "    </tr>\n",
       "  </tbody>\n",
       "</table>\n",
       "</div>"
      ],
      "text/plain": [
       "                  CGPA  tot_arriers  clrd_arriers   Interns  Paid_intrn  \\\n",
       "CGPA          1.000000    -0.855397     -0.691718  0.533654    0.239860   \n",
       "tot_arriers  -0.855397     1.000000      0.776991 -0.378097   -0.208105   \n",
       "clrd_arriers -0.691718     0.776991      1.000000 -0.269568   -0.086495   \n",
       "Interns       0.533654    -0.378097     -0.269568  1.000000    0.237352   \n",
       "Paid_intrn    0.239860    -0.208105     -0.086495  0.237352    1.000000   \n",
       "Projects      0.508915    -0.350926     -0.280475  0.655837    0.392518   \n",
       "Articels      0.597953    -0.392439     -0.315655  0.612065    0.358120   \n",
       "Placement     0.873205    -0.606545     -0.563882  0.613079    0.296479   \n",
       "\n",
       "              Projects  Articels  Placement  \n",
       "CGPA          0.508915  0.597953   0.873205  \n",
       "tot_arriers  -0.350926 -0.392439  -0.606545  \n",
       "clrd_arriers -0.280475 -0.315655  -0.563882  \n",
       "Interns       0.655837  0.612065   0.613079  \n",
       "Paid_intrn    0.392518  0.358120   0.296479  \n",
       "Projects      1.000000  0.587158   0.694861  \n",
       "Articels      0.587158  1.000000   0.739054  \n",
       "Placement     0.694861  0.739054   1.000000  "
      ]
     },
     "execution_count": 172,
     "metadata": {},
     "output_type": "execute_result"
    }
   ],
   "source": [
    "dat.corr()"
   ]
  },
  {
   "cell_type": "code",
   "execution_count": 174,
   "metadata": {},
   "outputs": [
    {
     "data": {
      "text/plain": [
       "<seaborn.axisgrid.PairGrid at 0x1ed44ab8ac8>"
      ]
     },
     "execution_count": 174,
     "metadata": {},
     "output_type": "execute_result"
    },
    {
     "data": {
      "image/png": "[encoded data removed]",
      "text/plain": [
       "<Figure size 1440x1440 with 72 Axes>"
      ]
     },
     "metadata": {
      "needs_background": "light"
     },
     "output_type": "display_data"
    }
   ],
   "source": [
    "sns.pairplot(dat)"
   ]
  },
  {
   "cell_type": "code",
   "execution_count": null,
   "metadata": {},
   "outputs": [],
   "source": []
  }
 ],
 "metadata": {
  "kernelspec": {
   "display_name": "Python 3",
   "language": "python",
   "name": "python3"
  },
  "language_info": {
   "codemirror_mode": {
    "name": "ipython",
    "version": 3
   },
   "file_extension": ".py",
   "mimetype": "text/x-python",
   "name": "python",
   "nbconvert_exporter": "python",
   "pygments_lexer": "ipython3",
   "version": "3.7.6"
  }
 },
 "nbformat": 4,
 "nbformat_minor": 2
}
